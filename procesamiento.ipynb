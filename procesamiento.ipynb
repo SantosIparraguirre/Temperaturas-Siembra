{
 "cells": [
  {
   "cell_type": "code",
   "execution_count": 1,
   "metadata": {},
   "outputs": [],
   "source": [
    "import pandas as pd"
   ]
  },
  {
   "cell_type": "code",
   "execution_count": 2,
   "metadata": {},
   "outputs": [
    {
     "data": {
      "text/html": [
       "<div>\n",
       "<style scoped>\n",
       "    .dataframe tbody tr th:only-of-type {\n",
       "        vertical-align: middle;\n",
       "    }\n",
       "\n",
       "    .dataframe tbody tr th {\n",
       "        vertical-align: top;\n",
       "    }\n",
       "\n",
       "    .dataframe thead th {\n",
       "        text-align: right;\n",
       "    }\n",
       "</style>\n",
       "<table border=\"1\" class=\"dataframe\">\n",
       "  <thead>\n",
       "    <tr style=\"text-align: right;\">\n",
       "      <th></th>\n",
       "      <th>Fecha</th>\n",
       "      <th>Temperatura_Abrigo_150cm</th>\n",
       "      <th>Temperatura_Abrigo_150cm_Maxima</th>\n",
       "      <th>Temperatura_Abrigo_150cm_Minima</th>\n",
       "      <th>Temperatura_Suelo_10cm_Media</th>\n",
       "    </tr>\n",
       "  </thead>\n",
       "  <tbody>\n",
       "    <tr>\n",
       "      <th>0</th>\n",
       "      <td>2010-11-11 00:00:00.0</td>\n",
       "      <td>11.68125</td>\n",
       "      <td>19.4</td>\n",
       "      <td>4.6</td>\n",
       "      <td>15.89028</td>\n",
       "    </tr>\n",
       "    <tr>\n",
       "      <th>1</th>\n",
       "      <td>2010-11-12 00:00:00.0</td>\n",
       "      <td>14.42500</td>\n",
       "      <td>22.9</td>\n",
       "      <td>7.7</td>\n",
       "      <td>16.98612</td>\n",
       "    </tr>\n",
       "    <tr>\n",
       "      <th>2</th>\n",
       "      <td>2010-11-13 00:00:00.0</td>\n",
       "      <td>17.73611</td>\n",
       "      <td>25.7</td>\n",
       "      <td>10.4</td>\n",
       "      <td>18.10833</td>\n",
       "    </tr>\n",
       "    <tr>\n",
       "      <th>3</th>\n",
       "      <td>2010-11-14 00:00:00.0</td>\n",
       "      <td>16.11389</td>\n",
       "      <td>22.9</td>\n",
       "      <td>11.5</td>\n",
       "      <td>18.65487</td>\n",
       "    </tr>\n",
       "    <tr>\n",
       "      <th>4</th>\n",
       "      <td>2010-11-15 00:00:00.0</td>\n",
       "      <td>15.60625</td>\n",
       "      <td>21.1</td>\n",
       "      <td>12.6</td>\n",
       "      <td>18.74791</td>\n",
       "    </tr>\n",
       "  </tbody>\n",
       "</table>\n",
       "</div>"
      ],
      "text/plain": [
       "                   Fecha  Temperatura_Abrigo_150cm  \\\n",
       "0  2010-11-11 00:00:00.0                  11.68125   \n",
       "1  2010-11-12 00:00:00.0                  14.42500   \n",
       "2  2010-11-13 00:00:00.0                  17.73611   \n",
       "3  2010-11-14 00:00:00.0                  16.11389   \n",
       "4  2010-11-15 00:00:00.0                  15.60625   \n",
       "\n",
       "   Temperatura_Abrigo_150cm_Maxima  Temperatura_Abrigo_150cm_Minima  \\\n",
       "0                             19.4                              4.6   \n",
       "1                             22.9                              7.7   \n",
       "2                             25.7                             10.4   \n",
       "3                             22.9                             11.5   \n",
       "4                             21.1                             12.6   \n",
       "\n",
       "   Temperatura_Suelo_10cm_Media  \n",
       "0                      15.89028  \n",
       "1                      16.98612  \n",
       "2                      18.10833  \n",
       "3                      18.65487  \n",
       "4                      18.74791  "
      ]
     },
     "execution_count": 2,
     "metadata": {},
     "output_type": "execute_result"
    }
   ],
   "source": [
    "df_balcarce = pd.read_excel(\"./dataset/Estacion Balcarce.xlsx\")\n",
    "df_balcarce.head()"
   ]
  },
  {
   "cell_type": "code",
   "execution_count": 3,
   "metadata": {},
   "outputs": [
    {
     "data": {
      "text/html": [
       "<div>\n",
       "<style scoped>\n",
       "    .dataframe tbody tr th:only-of-type {\n",
       "        vertical-align: middle;\n",
       "    }\n",
       "\n",
       "    .dataframe tbody tr th {\n",
       "        vertical-align: top;\n",
       "    }\n",
       "\n",
       "    .dataframe thead th {\n",
       "        text-align: right;\n",
       "    }\n",
       "</style>\n",
       "<table border=\"1\" class=\"dataframe\">\n",
       "  <thead>\n",
       "    <tr style=\"text-align: right;\">\n",
       "      <th></th>\n",
       "      <th>Fecha</th>\n",
       "      <th>Temperatura_Abrigo_150cm</th>\n",
       "      <th>Temperatura_Abrigo_150cm_Maxima</th>\n",
       "      <th>Temperatura_Abrigo_150cm_Minima</th>\n",
       "      <th>Temperatura_Suelo_10cm_Media</th>\n",
       "    </tr>\n",
       "  </thead>\n",
       "  <tbody>\n",
       "    <tr>\n",
       "      <th>0</th>\n",
       "      <td>2010-11-13 00:00:00.0</td>\n",
       "      <td>19.26319</td>\n",
       "      <td>29.6</td>\n",
       "      <td>12.2</td>\n",
       "      <td>20.00764</td>\n",
       "    </tr>\n",
       "    <tr>\n",
       "      <th>1</th>\n",
       "      <td>2010-11-14 00:00:00.0</td>\n",
       "      <td>14.09305</td>\n",
       "      <td>17.9</td>\n",
       "      <td>12.4</td>\n",
       "      <td>18.95348</td>\n",
       "    </tr>\n",
       "    <tr>\n",
       "      <th>2</th>\n",
       "      <td>2010-11-15 00:00:00.0</td>\n",
       "      <td>15.12222</td>\n",
       "      <td>20.9</td>\n",
       "      <td>12.1</td>\n",
       "      <td>17.71111</td>\n",
       "    </tr>\n",
       "    <tr>\n",
       "      <th>3</th>\n",
       "      <td>2010-11-16 00:00:00.0</td>\n",
       "      <td>15.60139</td>\n",
       "      <td>22.0</td>\n",
       "      <td>10.6</td>\n",
       "      <td>18.58889</td>\n",
       "    </tr>\n",
       "    <tr>\n",
       "      <th>4</th>\n",
       "      <td>2010-11-17 00:00:00.0</td>\n",
       "      <td>15.95347</td>\n",
       "      <td>23.5</td>\n",
       "      <td>11.4</td>\n",
       "      <td>19.55139</td>\n",
       "    </tr>\n",
       "  </tbody>\n",
       "</table>\n",
       "</div>"
      ],
      "text/plain": [
       "                   Fecha  Temperatura_Abrigo_150cm  \\\n",
       "0  2010-11-13 00:00:00.0                  19.26319   \n",
       "1  2010-11-14 00:00:00.0                  14.09305   \n",
       "2  2010-11-15 00:00:00.0                  15.12222   \n",
       "3  2010-11-16 00:00:00.0                  15.60139   \n",
       "4  2010-11-17 00:00:00.0                  15.95347   \n",
       "\n",
       "   Temperatura_Abrigo_150cm_Maxima  Temperatura_Abrigo_150cm_Minima  \\\n",
       "0                             29.6                             12.2   \n",
       "1                             17.9                             12.4   \n",
       "2                             20.9                             12.1   \n",
       "3                             22.0                             10.6   \n",
       "4                             23.5                             11.4   \n",
       "\n",
       "   Temperatura_Suelo_10cm_Media  \n",
       "0                      20.00764  \n",
       "1                      18.95348  \n",
       "2                      17.71111  \n",
       "3                      18.58889  \n",
       "4                      19.55139  "
      ]
     },
     "execution_count": 3,
     "metadata": {},
     "output_type": "execute_result"
    }
   ],
   "source": [
    "df_ladulce = pd.read_excel(\"./dataset/Estacion la dulce.xlsx\")\n",
    "df_ladulce.head()"
   ]
  },
  {
   "cell_type": "code",
   "execution_count": 4,
   "metadata": {},
   "outputs": [
    {
     "data": {
      "text/html": [
       "<div>\n",
       "<style scoped>\n",
       "    .dataframe tbody tr th:only-of-type {\n",
       "        vertical-align: middle;\n",
       "    }\n",
       "\n",
       "    .dataframe tbody tr th {\n",
       "        vertical-align: top;\n",
       "    }\n",
       "\n",
       "    .dataframe thead th {\n",
       "        text-align: right;\n",
       "    }\n",
       "</style>\n",
       "<table border=\"1\" class=\"dataframe\">\n",
       "  <thead>\n",
       "    <tr style=\"text-align: right;\">\n",
       "      <th></th>\n",
       "      <th>Fecha</th>\n",
       "      <th>Temperatura_Abrigo_150cm</th>\n",
       "      <th>Temperatura_Abrigo_150cm_Maxima</th>\n",
       "      <th>Temperatura_Abrigo_150cm_Minima</th>\n",
       "      <th>Temperatura_Suelo_10cm_Media</th>\n",
       "    </tr>\n",
       "  </thead>\n",
       "  <tbody>\n",
       "    <tr>\n",
       "      <th>0</th>\n",
       "      <td>2010-11-12 00:00:00.0</td>\n",
       "      <td>14.10626</td>\n",
       "      <td>23.1</td>\n",
       "      <td>5.7</td>\n",
       "      <td>16.25625</td>\n",
       "    </tr>\n",
       "    <tr>\n",
       "      <th>1</th>\n",
       "      <td>2010-11-13 00:00:00.0</td>\n",
       "      <td>18.46319</td>\n",
       "      <td>26.7</td>\n",
       "      <td>12.0</td>\n",
       "      <td>18.33056</td>\n",
       "    </tr>\n",
       "    <tr>\n",
       "      <th>2</th>\n",
       "      <td>2010-11-14 00:00:00.0</td>\n",
       "      <td>16.00417</td>\n",
       "      <td>22.5</td>\n",
       "      <td>11.3</td>\n",
       "      <td>19.36319</td>\n",
       "    </tr>\n",
       "    <tr>\n",
       "      <th>3</th>\n",
       "      <td>2010-11-15 00:00:00.0</td>\n",
       "      <td>15.63611</td>\n",
       "      <td>22.1</td>\n",
       "      <td>12.3</td>\n",
       "      <td>19.44653</td>\n",
       "    </tr>\n",
       "    <tr>\n",
       "      <th>4</th>\n",
       "      <td>2010-11-16 00:00:00.0</td>\n",
       "      <td>16.18333</td>\n",
       "      <td>22.0</td>\n",
       "      <td>13.1</td>\n",
       "      <td>20.25625</td>\n",
       "    </tr>\n",
       "  </tbody>\n",
       "</table>\n",
       "</div>"
      ],
      "text/plain": [
       "                   Fecha  Temperatura_Abrigo_150cm  \\\n",
       "0  2010-11-12 00:00:00.0                  14.10626   \n",
       "1  2010-11-13 00:00:00.0                  18.46319   \n",
       "2  2010-11-14 00:00:00.0                  16.00417   \n",
       "3  2010-11-15 00:00:00.0                  15.63611   \n",
       "4  2010-11-16 00:00:00.0                  16.18333   \n",
       "\n",
       "   Temperatura_Abrigo_150cm_Maxima  Temperatura_Abrigo_150cm_Minima  \\\n",
       "0                             23.1                              5.7   \n",
       "1                             26.7                             12.0   \n",
       "2                             22.5                             11.3   \n",
       "3                             22.1                             12.3   \n",
       "4                             22.0                             13.1   \n",
       "\n",
       "   Temperatura_Suelo_10cm_Media  \n",
       "0                      16.25625  \n",
       "1                      18.33056  \n",
       "2                      19.36319  \n",
       "3                      19.44653  \n",
       "4                      20.25625  "
      ]
     },
     "execution_count": 4,
     "metadata": {},
     "output_type": "execute_result"
    }
   ],
   "source": [
    "df_miramar = pd.read_excel(\"./dataset/Estacion Miramar.xlsx\")\n",
    "df_miramar.head()\n"
   ]
  },
  {
   "cell_type": "code",
   "execution_count": 5,
   "metadata": {},
   "outputs": [],
   "source": [
    "# Convertir a datetime y dejar sólo la fecha en la columna de fecha (quitar la hora)\n",
    "df_balcarce[\"Fecha\"] = pd.to_datetime(df_balcarce[\"Fecha\"])\n",
    "df_ladulce[\"Fecha\"] = pd.to_datetime(df_ladulce[\"Fecha\"])\n",
    "df_miramar[\"Fecha\"] = pd.to_datetime(df_miramar[\"Fecha\"])\n",
    "# df_balcarce[\"Fecha\"] = df_balcarce[\"Fecha\"].dt.date\n",
    "# df_ladulce[\"Fecha\"] = df_ladulce[\"Fecha\"].dt.date\n",
    "# df_miramar[\"Fecha\"] = df_miramar[\"Fecha\"].dt.date"
   ]
  },
  {
   "cell_type": "code",
   "execution_count": 195,
   "metadata": {},
   "outputs": [
    {
     "data": {
      "text/plain": [
       "Fecha                              datetime64[ns]\n",
       "Temperatura_Abrigo_150cm                  float64\n",
       "Temperatura_Abrigo_150cm_Maxima           float64\n",
       "Temperatura_Abrigo_150cm_Minima           float64\n",
       "Temperatura_Suelo_10cm_Media              float64\n",
       "dtype: object"
      ]
     },
     "execution_count": 195,
     "metadata": {},
     "output_type": "execute_result"
    }
   ],
   "source": [
    "df_balcarce.dtypes"
   ]
  },
  {
   "cell_type": "code",
   "execution_count": 196,
   "metadata": {},
   "outputs": [
    {
     "data": {
      "text/plain": [
       "Fecha                              datetime64[ns]\n",
       "Temperatura_Abrigo_150cm                  float64\n",
       "Temperatura_Abrigo_150cm_Maxima           float64\n",
       "Temperatura_Abrigo_150cm_Minima           float64\n",
       "Temperatura_Suelo_10cm_Media              float64\n",
       "dtype: object"
      ]
     },
     "execution_count": 196,
     "metadata": {},
     "output_type": "execute_result"
    }
   ],
   "source": [
    "df_ladulce.dtypes"
   ]
  },
  {
   "cell_type": "code",
   "execution_count": 197,
   "metadata": {},
   "outputs": [
    {
     "data": {
      "text/plain": [
       "Fecha                              datetime64[ns]\n",
       "Temperatura_Abrigo_150cm                  float64\n",
       "Temperatura_Abrigo_150cm_Maxima           float64\n",
       "Temperatura_Abrigo_150cm_Minima           float64\n",
       "Temperatura_Suelo_10cm_Media              float64\n",
       "dtype: object"
      ]
     },
     "execution_count": 197,
     "metadata": {},
     "output_type": "execute_result"
    }
   ],
   "source": [
    "df_miramar.dtypes"
   ]
  },
  {
   "cell_type": "code",
   "execution_count": 198,
   "metadata": {},
   "outputs": [
    {
     "data": {
      "text/html": [
       "<div>\n",
       "<style scoped>\n",
       "    .dataframe tbody tr th:only-of-type {\n",
       "        vertical-align: middle;\n",
       "    }\n",
       "\n",
       "    .dataframe tbody tr th {\n",
       "        vertical-align: top;\n",
       "    }\n",
       "\n",
       "    .dataframe thead th {\n",
       "        text-align: right;\n",
       "    }\n",
       "</style>\n",
       "<table border=\"1\" class=\"dataframe\">\n",
       "  <thead>\n",
       "    <tr style=\"text-align: right;\">\n",
       "      <th></th>\n",
       "      <th>Fecha</th>\n",
       "      <th>Temperatura_Abrigo_150cm</th>\n",
       "      <th>Temperatura_Abrigo_150cm_Maxima</th>\n",
       "      <th>Temperatura_Abrigo_150cm_Minima</th>\n",
       "      <th>Temperatura_Suelo_10cm_Media</th>\n",
       "    </tr>\n",
       "  </thead>\n",
       "  <tbody>\n",
       "    <tr>\n",
       "      <th>0</th>\n",
       "      <td>2010-11-11</td>\n",
       "      <td>11.68125</td>\n",
       "      <td>19.4</td>\n",
       "      <td>4.6</td>\n",
       "      <td>15.89028</td>\n",
       "    </tr>\n",
       "  </tbody>\n",
       "</table>\n",
       "</div>"
      ],
      "text/plain": [
       "       Fecha  Temperatura_Abrigo_150cm  Temperatura_Abrigo_150cm_Maxima  \\\n",
       "0 2010-11-11                  11.68125                             19.4   \n",
       "\n",
       "   Temperatura_Abrigo_150cm_Minima  Temperatura_Suelo_10cm_Media  \n",
       "0                              4.6                      15.89028  "
      ]
     },
     "execution_count": 198,
     "metadata": {},
     "output_type": "execute_result"
    }
   ],
   "source": [
    "df_balcarce.head(1)"
   ]
  },
  {
   "cell_type": "code",
   "execution_count": 6,
   "metadata": {},
   "outputs": [],
   "source": [
    "# Calcular los grados día\n",
    "\n",
    "# Balcarce\n",
    "df_balcarce['Grados dia'] = (df_balcarce['Temperatura_Abrigo_150cm_Maxima'] + df_balcarce['Temperatura_Abrigo_150cm_Minima']) / 2 - 8\n",
    "# La dulce\n",
    "df_ladulce['Grados dia'] = (df_ladulce['Temperatura_Abrigo_150cm_Maxima'] + df_ladulce['Temperatura_Abrigo_150cm_Minima']) / 2 - 8\n",
    "# Miramar\n",
    "df_miramar['Grados dia'] = (df_miramar['Temperatura_Abrigo_150cm_Maxima'] + df_miramar['Temperatura_Abrigo_150cm_Minima']) / 2 - 8"
   ]
  },
  {
   "cell_type": "code",
   "execution_count": 200,
   "metadata": {},
   "outputs": [
    {
     "data": {
      "text/html": [
       "<div>\n",
       "<style scoped>\n",
       "    .dataframe tbody tr th:only-of-type {\n",
       "        vertical-align: middle;\n",
       "    }\n",
       "\n",
       "    .dataframe tbody tr th {\n",
       "        vertical-align: top;\n",
       "    }\n",
       "\n",
       "    .dataframe thead th {\n",
       "        text-align: right;\n",
       "    }\n",
       "</style>\n",
       "<table border=\"1\" class=\"dataframe\">\n",
       "  <thead>\n",
       "    <tr style=\"text-align: right;\">\n",
       "      <th></th>\n",
       "      <th>Fecha</th>\n",
       "      <th>Temperatura_Abrigo_150cm</th>\n",
       "      <th>Temperatura_Abrigo_150cm_Maxima</th>\n",
       "      <th>Temperatura_Abrigo_150cm_Minima</th>\n",
       "      <th>Temperatura_Suelo_10cm_Media</th>\n",
       "      <th>Grados dia</th>\n",
       "    </tr>\n",
       "  </thead>\n",
       "  <tbody>\n",
       "    <tr>\n",
       "      <th>0</th>\n",
       "      <td>2010-11-13</td>\n",
       "      <td>19.26319</td>\n",
       "      <td>29.6</td>\n",
       "      <td>12.2</td>\n",
       "      <td>20.00764</td>\n",
       "      <td>12.9</td>\n",
       "    </tr>\n",
       "  </tbody>\n",
       "</table>\n",
       "</div>"
      ],
      "text/plain": [
       "       Fecha  Temperatura_Abrigo_150cm  Temperatura_Abrigo_150cm_Maxima  \\\n",
       "0 2010-11-13                  19.26319                             29.6   \n",
       "\n",
       "   Temperatura_Abrigo_150cm_Minima  Temperatura_Suelo_10cm_Media  Grados dia  \n",
       "0                             12.2                      20.00764        12.9  "
      ]
     },
     "execution_count": 200,
     "metadata": {},
     "output_type": "execute_result"
    }
   ],
   "source": [
    "df_ladulce.head(1)"
   ]
  },
  {
   "cell_type": "code",
   "execution_count": 201,
   "metadata": {},
   "outputs": [
    {
     "data": {
      "text/html": [
       "<div>\n",
       "<style scoped>\n",
       "    .dataframe tbody tr th:only-of-type {\n",
       "        vertical-align: middle;\n",
       "    }\n",
       "\n",
       "    .dataframe tbody tr th {\n",
       "        vertical-align: top;\n",
       "    }\n",
       "\n",
       "    .dataframe thead th {\n",
       "        text-align: right;\n",
       "    }\n",
       "</style>\n",
       "<table border=\"1\" class=\"dataframe\">\n",
       "  <thead>\n",
       "    <tr style=\"text-align: right;\">\n",
       "      <th></th>\n",
       "      <th>Fecha</th>\n",
       "      <th>Temperatura_Abrigo_150cm</th>\n",
       "      <th>Temperatura_Abrigo_150cm_Maxima</th>\n",
       "      <th>Temperatura_Abrigo_150cm_Minima</th>\n",
       "      <th>Temperatura_Suelo_10cm_Media</th>\n",
       "      <th>Grados dia</th>\n",
       "    </tr>\n",
       "  </thead>\n",
       "  <tbody>\n",
       "    <tr>\n",
       "      <th>4738</th>\n",
       "      <td>2024-02-06</td>\n",
       "      <td>22.28194</td>\n",
       "      <td>27.5</td>\n",
       "      <td>19.2</td>\n",
       "      <td>23.91877</td>\n",
       "      <td>15.35</td>\n",
       "    </tr>\n",
       "  </tbody>\n",
       "</table>\n",
       "</div>"
      ],
      "text/plain": [
       "          Fecha  Temperatura_Abrigo_150cm  Temperatura_Abrigo_150cm_Maxima  \\\n",
       "4738 2024-02-06                  22.28194                             27.5   \n",
       "\n",
       "      Temperatura_Abrigo_150cm_Minima  Temperatura_Suelo_10cm_Media  \\\n",
       "4738                             19.2                      23.91877   \n",
       "\n",
       "      Grados dia  \n",
       "4738       15.35  "
      ]
     },
     "execution_count": 201,
     "metadata": {},
     "output_type": "execute_result"
    }
   ],
   "source": [
    "df_ladulce.tail(1)"
   ]
  },
  {
   "cell_type": "code",
   "execution_count": 9,
   "metadata": {},
   "outputs": [],
   "source": [
    "# Eliminar todos los años que tengan fecha menor a 2014\n",
    "mask = df_balcarce[\"Fecha\"].dt.year < 2014\n",
    "df_balcarce = df_balcarce[~mask]\n",
    "\n",
    "mask = df_ladulce[\"Fecha\"].dt.year < 2014\n",
    "df_ladulce = df_ladulce[~mask]\n",
    "\n",
    "mask = df_miramar[\"Fecha\"].dt.year < 2014\n",
    "df_miramar = df_miramar[~mask]"
   ]
  },
  {
   "cell_type": "code",
   "execution_count": null,
   "metadata": {},
   "outputs": [],
   "source": [
    "mask = df_balcarce['Temperatura_Abrigo_150cm_Maxima'].isnull()\n",
    "df_balcarce[mask]"
   ]
  },
  {
   "cell_type": "code",
   "execution_count": null,
   "metadata": {},
   "outputs": [],
   "source": [
    "mask = df_ladulce['Temperatura_Abrigo_150cm_Maxima'].isnull()\n",
    "df_ladulce[mask]"
   ]
  },
  {
   "cell_type": "code",
   "execution_count": null,
   "metadata": {},
   "outputs": [],
   "source": [
    "mask = df_miramar['Temperatura_Abrigo_150cm_Maxima'].isnull()\n",
    "df_miramar[mask]"
   ]
  },
  {
   "cell_type": "code",
   "execution_count": 21,
   "metadata": {},
   "outputs": [],
   "source": [
    "df_balcarce.to_excel(\"Estacion Balcarce.xlsx\", index=False)\n",
    "df_ladulce.to_excel(\"Estacion la dulce.xlsx\", index=False)\n",
    "df_miramar.to_excel(\"Estacion Miramar.xlsx\", index=False)"
   ]
  },
  {
   "cell_type": "code",
   "execution_count": null,
   "metadata": {},
   "outputs": [],
   "source": [
    "import numpy as np\n",
    "\n",
    "df = df_balcarce.copy()\n",
    "\n",
    "# Crea columnas para quincena y mes\n",
    "df['quincena'] = df['Fecha'].dt.to_period('M').astype(str) + '-' + np.where(df['Fecha'].dt.day <= 15, '1', '2')\n",
    "\n",
    "# Filtra los valores negativos y suma por quincena\n",
    "resultado = df[df['Grados dia'] > 0].groupby('quincena')['Grados dia'].sum().reset_index()\n",
    "\n",
    "# Renombra la columna de la suma\n",
    "resultado = resultado.rename(columns={'Grados dia': 'GDU acumulado'})\n",
    "\n",
    "# Ordena el resultado por quincena\n",
    "resultado = resultado.sort_values('quincena')\n",
    "\n",
    "# Reordena las columnas según lo solicitado\n",
    "resultado = resultado[['quincena', 'GDU acumulado']]"
   ]
  },
  {
   "cell_type": "code",
   "execution_count": null,
   "metadata": {},
   "outputs": [],
   "source": [
    "resultado.to_excel(\"GDU Quincena Balcarce.xlsx\", index=False)"
   ]
  },
  {
   "cell_type": "code",
   "execution_count": 58,
   "metadata": {},
   "outputs": [],
   "source": [
    "import numpy as np\n",
    "\n",
    "df = df_balcarce.copy()\n",
    "\n",
    "# Crea columnas para quincena y mes\n",
    "df['quincena'] = np.where(df['Fecha'].dt.day <= 15, '1', '2')\n",
    "df['mes'] = df['Fecha'].dt.strftime('%m')\n",
    "\n",
    "# Filtra los valores negativos y suma por quincena\n",
    "resultado = df[df['Grados dia'] > 0].groupby(['quincena', 'mes'])['Grados dia'].sum().reset_index()\n",
    "\n",
    "# Renombra la columna de la suma\n",
    "resultado = resultado.rename(columns={'Grados dia': 'GDU acumulado'})\n",
    "\n",
    "# Ordena el resultado por quincena\n",
    "resultado = resultado.sort_values(['mes', 'quincena'])\n",
    "\n",
    "# Reordena las columnas según lo solicitado\n",
    "resultado = resultado[['quincena', 'mes', 'GDU acumulado']]"
   ]
  },
  {
   "cell_type": "code",
   "execution_count": null,
   "metadata": {},
   "outputs": [],
   "source": [
    "# Dividir por 11 para obtener el promedio en los meses menores a 08\n",
    "\n",
    "mask = resultado['mes'] < '08'\n",
    "\n",
    "# Dividir por 11 para obtener el prom con la mascara\n",
    "resultado['GDU acumulado'][mask] = resultado['GDU acumulado'][mask] / 11"
   ]
  },
  {
   "cell_type": "code",
   "execution_count": null,
   "metadata": {},
   "outputs": [],
   "source": [
    "mask = resultado['mes'] >= '08'\n",
    "\n",
    "# Dividir por 10 para obtener el prom con la mascara\n",
    "\n",
    "resultado['GDU acumulado'][mask] = resultado['GDU acumulado'][mask] / 10"
   ]
  },
  {
   "cell_type": "code",
   "execution_count": 61,
   "metadata": {},
   "outputs": [],
   "source": [
    "resultado.rename(columns={'GDU acumulado': 'GDU promedio'}, inplace=True)"
   ]
  },
  {
   "cell_type": "code",
   "execution_count": 62,
   "metadata": {},
   "outputs": [],
   "source": [
    "resultado.to_excel(\"Promedio GDU Quincena Balcarce.xlsx\", index=False)"
   ]
  },
  {
   "cell_type": "code",
   "execution_count": 24,
   "metadata": {},
   "outputs": [],
   "source": [
    "df = df_ladulce.copy()\n",
    "\n",
    "# Crea columnas para quincena y mes\n",
    "df['quincena'] = df['Fecha'].dt.to_period('M').astype(str) + '-' + np.where(df['Fecha'].dt.day <= 15, '1', '2')\n",
    "\n",
    "# Filtra los valores negativos y suma por quincena\n",
    "resultado = df[df['Grados dia'] > 0].groupby('quincena')['Grados dia'].sum().reset_index()\n",
    "\n",
    "# Renombra la columna de la suma\n",
    "resultado = resultado.rename(columns={'Grados dia': 'GDU acumulado'})\n",
    "\n",
    "# Ordena el resultado por quincena\n",
    "resultado = resultado.sort_values('quincena')\n",
    "\n",
    "# Reordena las columnas según lo solicitado\n",
    "resultado = resultado[['quincena', 'GDU acumulado']]"
   ]
  },
  {
   "cell_type": "code",
   "execution_count": 26,
   "metadata": {},
   "outputs": [],
   "source": [
    "resultado.to_excel(\"GDU Quincena la dulce.xlsx\", index=False)"
   ]
  },
  {
   "cell_type": "code",
   "execution_count": null,
   "metadata": {},
   "outputs": [],
   "source": [
    "df = df_ladulce.copy()\n",
    "\n",
    "# Crea columnas para quincena y mes\n",
    "df['quincena'] = np.where(df['Fecha'].dt.day <= 15, '1', '2')\n",
    "df['mes'] = df['Fecha'].dt.strftime('%m')\n",
    "\n",
    "# Filtra los valores negativos y suma por quincena\n",
    "resultado = df[df['Grados dia'] > 0].groupby(['quincena', 'mes'])['Grados dia'].sum().reset_index()\n",
    "\n",
    "# Renombra la columna de la suma\n",
    "resultado = resultado.rename(columns={'Grados dia': 'GDU acumulado'})\n",
    "\n",
    "# Ordena el resultado por quincena\n",
    "resultado = resultado.sort_values(['mes', 'quincena'])\n",
    "\n",
    "# Reordena las columnas según lo solicitado\n",
    "resultado = resultado[['quincena', 'mes', 'GDU acumulado']]\n",
    "\n",
    "# Dividir por 11 para obtener el promedio en los meses menores a 08\n",
    "\n",
    "mask = resultado['mes'] < '08'\n",
    "\n",
    "# Dividir por 11 para obtener el prom con la mascara\n",
    "resultado['GDU acumulado'][mask] = resultado['GDU acumulado'][mask] / 11\n",
    "\n",
    "mask = resultado['mes'] >= '08'\n",
    "\n",
    "# Dividir por 10 para obtener el prom con la mascara\n",
    "\n",
    "resultado['GDU acumulado'][mask] = resultado['GDU acumulado'][mask] / 10\n",
    "\n",
    "resultado.rename(columns={'GDU acumulado': 'GDU promedio'}, inplace=True)\n",
    "\n",
    "resultado.to_excel(\"Promedio GDU Quincena la dulce.xlsx\", index=False)"
   ]
  },
  {
   "cell_type": "code",
   "execution_count": 27,
   "metadata": {},
   "outputs": [],
   "source": [
    "df = df_miramar.copy()\n",
    "\n",
    "# Crea columnas para quincena y mes\n",
    "df['quincena'] = df['Fecha'].dt.to_period('M').astype(str) + '-' + np.where(df['Fecha'].dt.day <= 15, '1', '2')\n",
    "\n",
    "# Filtra los valores negativos y suma por quincena\n",
    "resultado = df[df['Grados dia'] > 0].groupby('quincena')['Grados dia'].sum().reset_index()\n",
    "\n",
    "# Renombra la columna de la suma\n",
    "resultado = resultado.rename(columns={'Grados dia': 'GDU acumulado'})\n",
    "\n",
    "# Ordena el resultado por quincena\n",
    "resultado = resultado.sort_values('quincena')\n",
    "\n",
    "# Reordena las columnas según lo solicitado\n",
    "resultado = resultado[['quincena', 'GDU acumulado']]"
   ]
  },
  {
   "cell_type": "code",
   "execution_count": 28,
   "metadata": {},
   "outputs": [],
   "source": [
    "resultado.to_excel(\"GDU Quincena Miramar.xlsx\", index=False)"
   ]
  },
  {
   "cell_type": "code",
   "execution_count": null,
   "metadata": {},
   "outputs": [],
   "source": [
    "df = df_miramar.copy()\n",
    "\n",
    "# Crea columnas para quincena y mes\n",
    "df['quincena'] = np.where(df['Fecha'].dt.day <= 15, '1', '2')\n",
    "df['mes'] = df['Fecha'].dt.strftime('%m')\n",
    "\n",
    "# Filtra los valores negativos y suma por quincena\n",
    "resultado = df[df['Grados dia'] > 0].groupby(['quincena', 'mes'])['Grados dia'].sum().reset_index()\n",
    "\n",
    "# Renombra la columna de la suma\n",
    "resultado = resultado.rename(columns={'Grados dia': 'GDU acumulado'})\n",
    "\n",
    "# Ordena el resultado por quincena\n",
    "resultado = resultado.sort_values(['mes', 'quincena'])\n",
    "\n",
    "# Reordena las columnas según lo solicitado\n",
    "resultado = resultado[['quincena', 'mes', 'GDU acumulado']]\n",
    "\n",
    "# Dividir por 11 para obtener el promedio en los meses menores a 08\n",
    "\n",
    "mask = resultado['mes'] < '08'\n",
    "\n",
    "# Dividir por 11 para obtener el prom con la mascara\n",
    "resultado['GDU acumulado'][mask] = resultado['GDU acumulado'][mask] / 11\n",
    "\n",
    "mask = resultado['mes'] >= '08'\n",
    "\n",
    "# Dividir por 10 para obtener el prom con la mascara\n",
    "\n",
    "resultado['GDU acumulado'][mask] = resultado['GDU acumulado'][mask] / 10\n",
    "\n",
    "resultado.rename(columns={'GDU acumulado': 'GDU promedio'}, inplace=True)\n",
    "\n",
    "resultado.to_excel(\"Promedio GDU Quincena Miramar.xlsx\", index=False)"
   ]
  },
  {
   "cell_type": "code",
   "execution_count": 83,
   "metadata": {},
   "outputs": [],
   "source": [
    "df_ladulce = pd.read_excel(\"Estacion la dulce.xlsx\")"
   ]
  },
  {
   "cell_type": "code",
   "execution_count": 76,
   "metadata": {},
   "outputs": [],
   "source": [
    "df_miramar = pd.read_excel(\"Estacion Miramar.xlsx\")"
   ]
  },
  {
   "cell_type": "code",
   "execution_count": 88,
   "metadata": {},
   "outputs": [],
   "source": [
    "df_balcarce = pd.read_excel(\"Estacion Balcarce.xlsx\")"
   ]
  },
  {
   "cell_type": "code",
   "execution_count": 79,
   "metadata": {},
   "outputs": [
    {
     "name": "stdout",
     "output_type": "stream",
     "text": [
      "Fechas faltantes:\n",
      "          Fecha\n",
      "77   2014-03-19\n",
      "78   2014-03-20\n",
      "79   2014-03-21\n",
      "80   2014-03-22\n",
      "81   2014-03-23\n",
      "...         ...\n",
      "2713 2021-06-06\n",
      "2714 2021-06-07\n",
      "2735 2021-06-28\n",
      "2736 2021-06-29\n",
      "2739 2021-07-02\n",
      "\n",
      "[95 rows x 1 columns]\n",
      "\n",
      "Resumen mensual de fechas faltantes:\n",
      "Fecha\n",
      "2014-03    12\n",
      "2018-05     6\n",
      "2020-07    10\n",
      "2020-08     3\n",
      "2020-09     1\n",
      "2021-03    17\n",
      "2021-04    30\n",
      "2021-05     7\n",
      "2021-06     8\n",
      "2021-07     1\n",
      "Freq: M, dtype: int64\n"
     ]
    }
   ],
   "source": [
    "df = df_ladulce.copy()\n",
    "\n",
    "# Asegúrate de que la columna 'fecha' sea de tipo datetime\n",
    "df['Fecha'] = pd.to_datetime(df['Fecha'])\n",
    "\n",
    "# Encuentra la fecha mínima y máxima en tu DataFrame\n",
    "fecha_min = df['Fecha'].min()\n",
    "fecha_max = df['Fecha'].max()\n",
    "\n",
    "# Crea un DataFrame con todas las fechas que deberían estar presentes\n",
    "todas_fechas = pd.DataFrame({'Fecha': pd.date_range(start=fecha_min, end=fecha_max, freq='D')})\n",
    "\n",
    "# Encuentra las fechas que faltan\n",
    "fechas_faltantes = todas_fechas[~todas_fechas['Fecha'].isin(df['Fecha'])]\n",
    "\n",
    "# Muestra las fechas faltantes\n",
    "print(\"Fechas faltantes:\")\n",
    "print(fechas_faltantes)\n",
    "\n",
    "# Si quieres ver un resumen por mes de las fechas faltantes\n",
    "resumen_mensual = fechas_faltantes.groupby(fechas_faltantes['Fecha'].dt.to_period('M')).size()\n",
    "print(\"\\nResumen mensual de fechas faltantes:\")\n",
    "print(resumen_mensual)"
   ]
  },
  {
   "cell_type": "code",
   "execution_count": 81,
   "metadata": {},
   "outputs": [
    {
     "name": "stdout",
     "output_type": "stream",
     "text": [
      "       Fecha  Temperatura_Abrigo_150cm  Temperatura_Abrigo_150cm_Maxima  \\\n",
      "0 2014-01-01                  20.48542                             28.2   \n",
      "1 2014-01-02                  18.36320                             24.8   \n",
      "2 2014-01-03                  15.01181                             22.2   \n",
      "3 2014-01-04                  18.56597                             29.8   \n",
      "4 2014-01-05                  19.13958                             30.2   \n",
      "\n",
      "   Temperatura_Abrigo_150cm_Minima  Temperatura_Suelo_10cm_Media  Grados dia  \n",
      "0                             13.7                      26.77569       12.95  \n",
      "1                             13.6                      25.74653       11.20  \n",
      "2                              7.2                      24.16528        6.70  \n",
      "3                             10.1                      24.61875       11.95  \n",
      "4                              8.6                      25.95764       11.40  \n",
      "Filas originales: 3594\n",
      "Filas después de imputar: 3689\n",
      "Filas añadidas: 95\n"
     ]
    }
   ],
   "source": [
    "df = df_ladulce.copy()\n",
    "\n",
    "# Asegúrate de que la columna 'fecha' sea de tipo datetime y esté establecida como índice\n",
    "df['Fecha'] = pd.to_datetime(df['Fecha'])\n",
    "df = df.set_index('Fecha')\n",
    "\n",
    "# Encuentra la fecha mínima y máxima en tu DataFrame\n",
    "fecha_min = df.index.min()\n",
    "fecha_max = df.index.max()\n",
    "\n",
    "# Crea un nuevo índice con todas las fechas\n",
    "nuevo_indice = pd.date_range(start=fecha_min, end=fecha_max, freq='D')\n",
    "\n",
    "# Reindexar el DataFrame, esto añadirá las fechas faltantes con valores NaN\n",
    "df_completo = df.reindex(nuevo_indice)\n",
    "\n",
    "# Resetea el índice para que 'fecha' vuelva a ser una columna\n",
    "df_completo = df_completo.reset_index().rename(columns={'index': 'Fecha'})\n",
    "\n",
    "# Muestra las primeras filas del DataFrame completo\n",
    "print(df_completo.head())\n",
    "\n",
    "# Verifica cuántas filas se añadieron\n",
    "filas_originales = len(df)\n",
    "filas_nuevas = len(df_completo)\n",
    "print(f\"Filas originales: {filas_originales}\")\n",
    "print(f\"Filas después de imputar: {filas_nuevas}\")\n",
    "print(f\"Filas añadidas: {filas_nuevas - filas_originales}\")"
   ]
  },
  {
   "cell_type": "code",
   "execution_count": 85,
   "metadata": {},
   "outputs": [
    {
     "data": {
      "text/plain": [
       "Fecha                                0\n",
       "Temperatura_Abrigo_150cm           241\n",
       "Temperatura_Abrigo_150cm_Maxima    199\n",
       "Temperatura_Abrigo_150cm_Minima    199\n",
       "Temperatura_Suelo_10cm_Media       247\n",
       "Grados dia                         179\n",
       "dtype: int64"
      ]
     },
     "execution_count": 85,
     "metadata": {},
     "output_type": "execute_result"
    }
   ],
   "source": [
    "df_completo.isnull().sum()"
   ]
  },
  {
   "cell_type": "code",
   "execution_count": 87,
   "metadata": {},
   "outputs": [],
   "source": [
    "df_completo.to_excel(\"Estacion la dulce.xlsx\", index=False)"
   ]
  },
  {
   "cell_type": "code",
   "execution_count": 80,
   "metadata": {},
   "outputs": [
    {
     "name": "stdout",
     "output_type": "stream",
     "text": [
      "Fechas faltantes:\n",
      "          Fecha\n",
      "199  2014-07-19\n",
      "200  2014-07-20\n",
      "201  2014-07-21\n",
      "202  2014-07-22\n",
      "203  2014-07-23\n",
      "...         ...\n",
      "3348 2023-03-03\n",
      "3349 2023-03-04\n",
      "3350 2023-03-05\n",
      "3351 2023-03-06\n",
      "3352 2023-03-07\n",
      "\n",
      "[80 rows x 1 columns]\n",
      "\n",
      "Resumen mensual de fechas faltantes:\n",
      "Fecha\n",
      "2014-07     5\n",
      "2017-07    12\n",
      "2017-08    27\n",
      "2022-09     2\n",
      "2023-02    27\n",
      "2023-03     7\n",
      "Freq: M, dtype: int64\n"
     ]
    }
   ],
   "source": [
    "df = df_miramar.copy()\n",
    "\n",
    "# Asegúrate de que la columna 'fecha' sea de tipo datetime\n",
    "df['Fecha'] = pd.to_datetime(df['Fecha'])\n",
    "\n",
    "# Encuentra la fecha mínima y máxima en tu DataFrame\n",
    "fecha_min = df['Fecha'].min()\n",
    "fecha_max = df['Fecha'].max()\n",
    "\n",
    "# Crea un DataFrame con todas las fechas que deberían estar presentes\n",
    "todas_fechas = pd.DataFrame({'Fecha': pd.date_range(start=fecha_min, end=fecha_max, freq='D')})\n",
    "\n",
    "# Encuentra las fechas que faltan\n",
    "fechas_faltantes = todas_fechas[~todas_fechas['Fecha'].isin(df['Fecha'])]\n",
    "\n",
    "# Muestra las fechas faltantes\n",
    "print(\"Fechas faltantes:\")\n",
    "print(fechas_faltantes)\n",
    "\n",
    "# Si quieres ver un resumen por mes de las fechas faltantes\n",
    "resumen_mensual = fechas_faltantes.groupby(fechas_faltantes['Fecha'].dt.to_period('M')).size()\n",
    "print(\"\\nResumen mensual de fechas faltantes:\")\n",
    "print(resumen_mensual)"
   ]
  },
  {
   "cell_type": "code",
   "execution_count": 89,
   "metadata": {},
   "outputs": [
    {
     "name": "stdout",
     "output_type": "stream",
     "text": [
      "       Fecha  Temperatura_Abrigo_150cm  Temperatura_Abrigo_150cm_Maxima  \\\n",
      "0 2014-01-01                  19.78889                             29.1   \n",
      "1 2014-01-02                  17.83125                             24.8   \n",
      "2 2014-01-03                  14.43055                             22.4   \n",
      "3 2014-01-04                  16.92431                             31.3   \n",
      "4 2014-01-05                  17.56111                             27.8   \n",
      "\n",
      "   Temperatura_Abrigo_150cm_Minima  Temperatura_Suelo_10cm_Media  Grados dia  \n",
      "0                             12.0                      23.25485       12.55  \n",
      "1                             12.0                      22.27846       10.40  \n",
      "2                              6.4                      21.16528        6.40  \n",
      "3                              4.0                      20.85694        9.65  \n",
      "4                              6.0                      21.69722        8.90  \n",
      "Filas originales: 3604\n",
      "Filas después de imputar: 3684\n",
      "Filas añadidas: 80\n"
     ]
    }
   ],
   "source": [
    "df = df_miramar.copy()\n",
    "\n",
    "# Asegúrate de que la columna 'fecha' sea de tipo datetime y esté establecida como índice\n",
    "df['Fecha'] = pd.to_datetime(df['Fecha'])\n",
    "df = df.set_index('Fecha')\n",
    "\n",
    "# Encuentra la fecha mínima y máxima en tu DataFrame\n",
    "fecha_min = df.index.min()\n",
    "fecha_max = df.index.max()\n",
    "\n",
    "# Crea un nuevo índice con todas las fechas\n",
    "nuevo_indice = pd.date_range(start=fecha_min, end=fecha_max, freq='D')\n",
    "\n",
    "# Reindexar el DataFrame, esto añadirá las fechas faltantes con valores NaN\n",
    "df_completo = df.reindex(nuevo_indice)\n",
    "\n",
    "# Resetea el índice para que 'fecha' vuelva a ser una columna\n",
    "df_completo = df_completo.reset_index().rename(columns={'index': 'Fecha'})\n",
    "\n",
    "# Muestra las primeras filas del DataFrame completo\n",
    "print(df_completo.head())\n",
    "\n",
    "# Verifica cuántas filas se añadieron\n",
    "filas_originales = len(df)\n",
    "filas_nuevas = len(df_completo)\n",
    "print(f\"Filas originales: {filas_originales}\")\n",
    "print(f\"Filas después de imputar: {filas_nuevas}\")\n",
    "print(f\"Filas añadidas: {filas_nuevas - filas_originales}\")"
   ]
  },
  {
   "cell_type": "code",
   "execution_count": 90,
   "metadata": {},
   "outputs": [],
   "source": [
    "df_completo.to_excel(\"Estacion Miramar.xlsx\", index=False)"
   ]
  },
  {
   "cell_type": "code",
   "execution_count": 92,
   "metadata": {},
   "outputs": [
    {
     "name": "stdout",
     "output_type": "stream",
     "text": [
      "       Fecha  Temperatura_Abrigo_150cm  Temperatura_Abrigo_150cm_Maxima  \\\n",
      "0 2014-01-01                  22.00347                             31.8   \n",
      "1 2014-01-02                  18.66181                             25.3   \n",
      "2 2014-01-03                  15.04583                             21.9   \n",
      "3 2014-01-04                  18.37223                             32.0   \n",
      "4 2014-01-05                  18.77778                             30.3   \n",
      "\n",
      "   Temperatura_Abrigo_150cm_Minima  Temperatura_Suelo_10cm_Media  Grados dia  \n",
      "0                             15.1                      22.79723       15.45  \n",
      "1                             13.9                      22.06597       11.60  \n",
      "2                              8.2                      20.70210        7.05  \n",
      "3                              8.4                      20.47013       12.20  \n",
      "4                              8.5                      21.11250       11.40  \n",
      "Filas originales: 3648\n",
      "Filas después de imputar: 3868\n",
      "Filas añadidas: 220\n"
     ]
    }
   ],
   "source": [
    "df = df_balcarce.copy()\n",
    "\n",
    "# Asegúrate de que la columna 'fecha' sea de tipo datetime y esté establecida como índice\n",
    "df['Fecha'] = pd.to_datetime(df['Fecha'])\n",
    "df = df.set_index('Fecha')\n",
    "\n",
    "# Encuentra la fecha mínima y máxima en tu DataFrame\n",
    "fecha_min = df.index.min()\n",
    "fecha_max = df.index.max()\n",
    "\n",
    "# Crea un nuevo índice con todas las fechas\n",
    "nuevo_indice = pd.date_range(start=fecha_min, end=fecha_max, freq='D')\n",
    "\n",
    "# Reindexar el DataFrame, esto añadirá las fechas faltantes con valores NaN\n",
    "df_completo = df.reindex(nuevo_indice)\n",
    "\n",
    "# Resetea el índice para que 'fecha' vuelva a ser una columna\n",
    "df_completo = df_completo.reset_index().rename(columns={'index': 'Fecha'})\n",
    "\n",
    "# Muestra las primeras filas del DataFrame completo\n",
    "print(df_completo.head())\n",
    "\n",
    "# Verifica cuántas filas se añadieron\n",
    "filas_originales = len(df)\n",
    "filas_nuevas = len(df_completo)\n",
    "print(f\"Filas originales: {filas_originales}\")\n",
    "print(f\"Filas después de imputar: {filas_nuevas}\")\n",
    "print(f\"Filas añadidas: {filas_nuevas - filas_originales}\")"
   ]
  },
  {
   "cell_type": "code",
   "execution_count": 93,
   "metadata": {},
   "outputs": [],
   "source": [
    "df_completo.to_excel(\"Estacion Balcarce.xlsx\", index=False)"
   ]
  },
  {
   "cell_type": "code",
   "execution_count": null,
   "metadata": {},
   "outputs": [],
   "source": [
    "# Ver los nulos por fecha en Balcarce\n",
    "\n",
    "df_balcarce = pd.read_excel(\"Estacion Balcarce.xlsx\")\n",
    "\n",
    "# Convertir a datetime\n",
    "df_balcarce[\"Fecha\"] = pd.to_datetime(df_balcarce[\"Fecha\"])\n",
    "\n",
    "# Crear una nueva columna 'mes' basada en la columna 'fecha'\n",
    "df_balcarce['mes'] = df_balcarce['Fecha'].dt.to_period('M')\n",
    "\n",
    "# Agrupar por mes y contar los valores nulos\n",
    "nulos_por_mes = df_balcarce.groupby('mes').apply(lambda x: x.isnull().sum())\n",
    "\n",
    "# Filtrar para mostrar sólo meses con valores nulos en grados dia\n",
    "\n",
    "nulos_por_mes = nulos_por_mes[nulos_por_mes['Grados dia'] > 0]"
   ]
  },
  {
   "cell_type": "code",
   "execution_count": 103,
   "metadata": {},
   "outputs": [],
   "source": [
    "# Borrar columnas innecesarias\n",
    "\n",
    "nulos_por_mes = nulos_por_mes.drop(columns=['Fecha', 'Temperatura_Abrigo_150cm_Maxima', 'Temperatura_Abrigo_150cm_Minima', 'Temperatura_Abrigo_150cm', 'Temperatura_Suelo_10cm_Media'])\n",
    "\n",
    "# Renombrar Grados por dia a \"faltantes\"\n",
    "\n",
    "nulos_por_mes = nulos_por_mes.rename(columns={'Grados dia': 'Faltantes'})"
   ]
  },
  {
   "cell_type": "code",
   "execution_count": 105,
   "metadata": {},
   "outputs": [],
   "source": [
    "nulos_por_mes.to_excel(\"Nulos por mes Balcarce.xlsx\")"
   ]
  },
  {
   "cell_type": "code",
   "execution_count": 106,
   "metadata": {},
   "outputs": [
    {
     "name": "stderr",
     "output_type": "stream",
     "text": [
      "C:\\Users\\santo\\AppData\\Local\\Temp\\ipykernel_20872\\950724531.py:12: DeprecationWarning: DataFrameGroupBy.apply operated on the grouping columns. This behavior is deprecated, and in a future version of pandas the grouping columns will be excluded from the operation. Either pass `include_groups=False` to exclude the groupings or explicitly select the grouping columns after groupby to silence this warning.\n",
      "  nulos_por_mes = df_ladulce.groupby('mes').apply(lambda x: x.isnull().sum())\n"
     ]
    }
   ],
   "source": [
    "# Ver los nulos por fecha en la dulce\n",
    "\n",
    "df_ladulce = pd.read_excel(\"Estacion la dulce.xlsx\")\n",
    "\n",
    "# Convertir a datetime\n",
    "df_ladulce[\"Fecha\"] = pd.to_datetime(df_ladulce[\"Fecha\"])\n",
    "\n",
    "# Crear una nueva columna 'mes' basada en la columna 'fecha'\n",
    "df_ladulce['mes'] = df_ladulce['Fecha'].dt.to_period('M')\n",
    "\n",
    "# Agrupar por mes y contar los valores nulos\n",
    "nulos_por_mes = df_ladulce.groupby('mes').apply(lambda x: x.isnull().sum())\n",
    "\n",
    "# Filtrar para mostrar sólo meses con valores nulos en grados dia\n",
    "\n",
    "nulos_por_mes = nulos_por_mes[nulos_por_mes['Grados dia'] > 0]\n",
    "\n",
    "# Borrar columnas innecesarias\n",
    "nulos_por_mes = nulos_por_mes.drop(columns=['Fecha', 'Temperatura_Abrigo_150cm_Maxima', 'Temperatura_Abrigo_150cm_Minima', 'Temperatura_Abrigo_150cm', 'Temperatura_Suelo_10cm_Media'])\n",
    "\n",
    "# Renombrar Grados por dia a \"faltantes\"\n",
    "nulos_por_mes = nulos_por_mes.rename(columns={'Grados dia': 'Faltantes'})\n",
    "\n",
    "nulos_por_mes.to_excel(\"Nulos por mes la dulce.xlsx\")"
   ]
  },
  {
   "cell_type": "code",
   "execution_count": 107,
   "metadata": {},
   "outputs": [
    {
     "name": "stderr",
     "output_type": "stream",
     "text": [
      "C:\\Users\\santo\\AppData\\Local\\Temp\\ipykernel_20872\\2060113021.py:12: DeprecationWarning: DataFrameGroupBy.apply operated on the grouping columns. This behavior is deprecated, and in a future version of pandas the grouping columns will be excluded from the operation. Either pass `include_groups=False` to exclude the groupings or explicitly select the grouping columns after groupby to silence this warning.\n",
      "  nulos_por_mes = df_miramar.groupby('mes').apply(lambda x: x.isnull().sum())\n"
     ]
    }
   ],
   "source": [
    "# Ver los nulos por fecha en Miramar\n",
    "\n",
    "df_miramar = pd.read_excel(\"Estacion Miramar.xlsx\")\n",
    "\n",
    "# Convertir a datetime\n",
    "df_miramar[\"Fecha\"] = pd.to_datetime(df_miramar[\"Fecha\"])\n",
    "\n",
    "# Crear una nueva columna 'mes' basada en la columna 'fecha'\n",
    "df_miramar['mes'] = df_miramar['Fecha'].dt.to_period('M')\n",
    "\n",
    "# Agrupar por mes y contar los valores nulos\n",
    "nulos_por_mes = df_miramar.groupby('mes').apply(lambda x: x.isnull().sum())\n",
    "\n",
    "# Filtrar para mostrar sólo meses con valores nulos en grados dia\n",
    "nulos_por_mes = nulos_por_mes[nulos_por_mes['Grados dia'] > 0]\n",
    "\n",
    "# Borrar columnas innecesarias\n",
    "nulos_por_mes = nulos_por_mes.drop(columns=['Fecha', 'Temperatura_Abrigo_150cm_Maxima', 'Temperatura_Abrigo_150cm_Minima', 'Temperatura_Abrigo_150cm', 'Temperatura_Suelo_10cm_Media'])\n",
    "\n",
    "# Renombrar Grados por dia a \"faltantes\"\n",
    "nulos_por_mes = nulos_por_mes.rename(columns={'Grados dia': 'Faltantes'})\n",
    "\n",
    "nulos_por_mes.to_excel(\"Nulos por mes Miramar.xlsx\")"
   ]
  },
  {
   "cell_type": "code",
   "execution_count": 110,
   "metadata": {},
   "outputs": [
    {
     "data": {
      "text/plain": [
       "1118.42"
      ]
     },
     "execution_count": 110,
     "metadata": {},
     "output_type": "execute_result"
    }
   ],
   "source": [
    "# 18/10/2023 a 23/01/2024\n",
    "\n",
    "df_ladulce = pd.read_excel(\"Estacion la dulce.xlsx\")\n",
    "\n",
    "mask = (df_ladulce[\"Fecha\"] >= \"2023-10-18\") & (df_ladulce[\"Fecha\"] <= \"2024-01-23\")\n",
    "\n",
    "df_ladulce = df_ladulce[mask]\n",
    "\n",
    "# Sumar todos los grados día sin tener en cuenta los negativos con np.where\n",
    "\n",
    "df_ladulce[\"Grados dia\"] = np.where(df_ladulce[\"Grados dia\"] > 0, df_ladulce[\"Grados dia\"], 0)\n",
    "\n",
    "resultado = df_ladulce[\"Grados dia\"].sum()\n",
    "\n",
    "resultado"
   ]
  },
  {
   "cell_type": "code",
   "execution_count": null,
   "metadata": {},
   "outputs": [],
   "source": [
    "df_ladulce.to_excel(\"oct a ene la dulce.xlsx\", index=False)"
   ]
  },
  {
   "cell_type": "code",
   "execution_count": 112,
   "metadata": {},
   "outputs": [
    {
     "data": {
      "text/plain": [
       "1059.85"
      ]
     },
     "execution_count": 112,
     "metadata": {},
     "output_type": "execute_result"
    }
   ],
   "source": [
    "# 25/11/2023 a 11/02/2024\n",
    "\n",
    "df_ladulce = pd.read_excel('Estacion la dulce.xlsx')\n",
    "\n",
    "mask = (df_ladulce['Fecha'] >= '2023-11-25') & (df_ladulce['Fecha'] <= '2024-02-11')\n",
    "\n",
    "df_ladulce = df_ladulce[mask]\n",
    "\n",
    "# Sumar todos los grados día sin tener en cuenta los negativos con np.where\n",
    "\n",
    "df_ladulce['Grados dia'] = np.where(df_ladulce['Grados dia'] > 0, df_ladulce['Grados dia'], 0)\n",
    "\n",
    "resultado = df_ladulce['Grados dia'].sum()\n",
    "\n",
    "resultado"
   ]
  },
  {
   "cell_type": "code",
   "execution_count": 113,
   "metadata": {},
   "outputs": [
    {
     "data": {
      "text/plain": [
       "1155.8000000000002"
      ]
     },
     "execution_count": 113,
     "metadata": {},
     "output_type": "execute_result"
    }
   ],
   "source": [
    "# 17/10/2023 a 25/01/2024\n",
    "\n",
    "df_ladulce = pd.read_excel('Estacion la dulce.xlsx')\n",
    "\n",
    "mask = (df_ladulce['Fecha'] >= '2023-10-17') & (df_ladulce['Fecha'] <= '2024-01-25')\n",
    "\n",
    "df_ladulce = df_ladulce[mask]\n",
    "\n",
    "# Sumar todos los grados día sin tener en cuenta los negativos con np.where\n",
    "\n",
    "df_ladulce['Grados dia'] = np.where(df_ladulce['Grados dia'] > 0, df_ladulce['Grados dia'], 0)\n",
    "\n",
    "resultado = df_ladulce['Grados dia'].sum()\n",
    "\n",
    "resultado"
   ]
  },
  {
   "cell_type": "code",
   "execution_count": 114,
   "metadata": {},
   "outputs": [
    {
     "data": {
      "text/plain": [
       "1123.1"
      ]
     },
     "execution_count": 114,
     "metadata": {},
     "output_type": "execute_result"
    }
   ],
   "source": [
    "# 19/11/2023 a 07/02/2024\n",
    "\n",
    "df_ladulce = pd.read_excel('Estacion la dulce.xlsx')\n",
    "\n",
    "mask = (df_ladulce['Fecha'] >= '2023-11-19') & (df_ladulce['Fecha'] <= '2024-02-07')\n",
    "\n",
    "df_ladulce = df_ladulce[mask]\n",
    "\n",
    "# Sumar todos los grados día sin tener en cuenta los negativos con np.where\n",
    "df_ladulce['Grados dia'] = np.where(df_ladulce['Grados dia'] > 0, df_ladulce['Grados dia'], 0)\n",
    "\n",
    "resultado = df_ladulce['Grados dia'].sum()\n",
    "\n",
    "resultado"
   ]
  },
  {
   "cell_type": "code",
   "execution_count": 115,
   "metadata": {},
   "outputs": [
    {
     "data": {
      "text/plain": [
       "1251.5000000000002"
      ]
     },
     "execution_count": 115,
     "metadata": {},
     "output_type": "execute_result"
    }
   ],
   "source": [
    "# 05/11/2023 a 07/02/2024\n",
    "\n",
    "df_ladulce = pd.read_excel('Estacion la dulce.xlsx')\n",
    "\n",
    "mask = (df_ladulce['Fecha'] >= '2023-11-05') & (df_ladulce['Fecha'] <= '2024-02-07')\n",
    "\n",
    "df_ladulce = df_ladulce[mask]\n",
    "\n",
    "# Sumar todos los grados día sin tener en cuenta los negativos con np.where\n",
    "df_ladulce['Grados dia'] = np.where(df_ladulce['Grados dia'] > 0, df_ladulce['Grados dia'], 0)\n",
    "\n",
    "resultado = df_ladulce['Grados dia'].sum()\n",
    "\n",
    "resultado"
   ]
  },
  {
   "cell_type": "code",
   "execution_count": 116,
   "metadata": {},
   "outputs": [
    {
     "data": {
      "text/plain": [
       "1225.5500000000002"
      ]
     },
     "execution_count": 116,
     "metadata": {},
     "output_type": "execute_result"
    }
   ],
   "source": [
    "# 06/11/2023 a 05/02/2024\n",
    "\n",
    "df_ladulce = pd.read_excel('Estacion la dulce.xlsx')\n",
    "\n",
    "mask = (df_ladulce['Fecha'] >= '2023-11-06') & (df_ladulce['Fecha'] <= '2024-02-05')\n",
    "\n",
    "df_ladulce = df_ladulce[mask]\n",
    "\n",
    "# Sumar todos los grados día sin tener en cuenta los negativos con np.where\n",
    "\n",
    "df_ladulce['Grados dia'] = np.where(df_ladulce['Grados dia'] > 0, df_ladulce['Grados dia'], 0)\n",
    "\n",
    "resultado = df_ladulce['Grados dia'].sum()\n",
    "\n",
    "resultado"
   ]
  },
  {
   "cell_type": "code",
   "execution_count": 117,
   "metadata": {},
   "outputs": [
    {
     "data": {
      "text/plain": [
       "1181.9999999999998"
      ]
     },
     "execution_count": 117,
     "metadata": {},
     "output_type": "execute_result"
    }
   ],
   "source": [
    "# 02/11/2023 al 01/02/2024\n",
    "\n",
    "df_ladulce = pd.read_excel('Estacion la dulce.xlsx')\n",
    "\n",
    "mask = (df_ladulce['Fecha'] >= '2023-11-02') & (df_ladulce['Fecha'] <= '2024-02-01')\n",
    "\n",
    "df_ladulce = df_ladulce[mask]\n",
    "\n",
    "# Sumar todos los grados día sin tener en cuenta los negativos con np.where\n",
    "\n",
    "df_ladulce['Grados dia'] = np.where(df_ladulce['Grados dia'] > 0, df_ladulce['Grados dia'], 0)\n",
    "\n",
    "resultado = df_ladulce['Grados dia'].sum()\n",
    "\n",
    "resultado"
   ]
  },
  {
   "cell_type": "code",
   "execution_count": 118,
   "metadata": {},
   "outputs": [
    {
     "data": {
      "text/plain": [
       "1036.1000000000001"
      ]
     },
     "execution_count": 118,
     "metadata": {},
     "output_type": "execute_result"
    }
   ],
   "source": [
    "# 10/11/2023 al 28/01/2024\n",
    "\n",
    "df_ladulce = pd.read_excel('Estacion la dulce.xlsx')\n",
    "\n",
    "mask = (df_ladulce['Fecha'] >= '2023-11-10') & (df_ladulce['Fecha'] <= '2024-01-28')\n",
    "\n",
    "df_ladulce = df_ladulce[mask]\n",
    "\n",
    "# Sumar todos los grados día sin tener en cuenta los negativos con np.where \n",
    "\n",
    "df_ladulce['Grados dia'] = np.where(df_ladulce['Grados dia'] > 0, df_ladulce['Grados dia'], 0)\n",
    "\n",
    "resultado = df_ladulce['Grados dia'].sum()\n",
    "\n",
    "resultado"
   ]
  },
  {
   "cell_type": "code",
   "execution_count": 119,
   "metadata": {},
   "outputs": [
    {
     "data": {
      "text/plain": [
       "1142.45"
      ]
     },
     "execution_count": 119,
     "metadata": {},
     "output_type": "execute_result"
    }
   ],
   "source": [
    "# 15/11/2023 al 05/02/2024\n",
    "\n",
    "df_ladulce = pd.read_excel('Estacion la dulce.xlsx')\n",
    "\n",
    "mask = (df_ladulce['Fecha'] >= '2023-11-15') & (df_ladulce['Fecha'] <= '2024-02-05')\n",
    "\n",
    "df_ladulce = df_ladulce[mask]\n",
    "\n",
    "# Sumar todos los grados día sin tener en cuenta los negativos con np.where\n",
    "\n",
    "df_ladulce['Grados dia'] = np.where(df_ladulce['Grados dia'] > 0, df_ladulce['Grados dia'], 0)\n",
    "\n",
    "resultado = df_ladulce['Grados dia'].sum()\n",
    "\n",
    "resultado"
   ]
  },
  {
   "cell_type": "code",
   "execution_count": 120,
   "metadata": {},
   "outputs": [
    {
     "data": {
      "text/plain": [
       "918.7499999999999"
      ]
     },
     "execution_count": 120,
     "metadata": {},
     "output_type": "execute_result"
    }
   ],
   "source": [
    "# Estacion miramar\n",
    "# 06/10/2023 al 15/01/2024\n",
    "\n",
    "df_miramar = pd.read_excel('Estacion Miramar.xlsx')\n",
    "\n",
    "mask = (df_miramar['Fecha'] >= '2023-10-06') & (df_miramar['Fecha'] <= '2024-01-15')\n",
    "\n",
    "df_miramar = df_miramar[mask]\n",
    "\n",
    "# Sumar todos los grados día sin tener en cuenta los negativos con np.where\n",
    "\n",
    "df_miramar['Grados dia'] = np.where(df_miramar['Grados dia'] > 0, df_miramar['Grados dia'], 0)\n",
    "\n",
    "resultado = df_miramar['Grados dia'].sum()\n",
    "\n",
    "resultado"
   ]
  },
  {
   "cell_type": "code",
   "execution_count": 121,
   "metadata": {},
   "outputs": [
    {
     "data": {
      "text/plain": [
       "893.7499999999999"
      ]
     },
     "execution_count": 121,
     "metadata": {},
     "output_type": "execute_result"
    }
   ],
   "source": [
    "# 16/10/2023 al 16/01/2024\n",
    "\n",
    "df_miramar = pd.read_excel('Estacion Miramar.xlsx')\n",
    "\n",
    "mask = (df_miramar['Fecha'] >= '2023-10-16') & (df_miramar['Fecha'] <= '2024-01-16')\n",
    "\n",
    "df_miramar = df_miramar[mask]\n",
    "\n",
    "# Sumar todos los grados día sin tener en cuenta los negativos con np.where\n",
    "\n",
    "df_miramar['Grados dia'] = np.where(df_miramar['Grados dia'] > 0, df_miramar['Grados dia'], 0)\n",
    "\n",
    "resultado = df_miramar['Grados dia'].sum()\n",
    "\n",
    "resultado"
   ]
  },
  {
   "cell_type": "code",
   "execution_count": 122,
   "metadata": {},
   "outputs": [
    {
     "data": {
      "text/plain": [
       "1006.6500000000002"
      ]
     },
     "execution_count": 122,
     "metadata": {},
     "output_type": "execute_result"
    }
   ],
   "source": [
    "# 08/10/2023 al 22/01/2024\n",
    "df_miramar = pd.read_excel('Estacion Miramar.xlsx')\n",
    "\n",
    "mask = (df_miramar['Fecha'] >= '2023-10-08') & (df_miramar['Fecha'] <= '2024-01-22')\n",
    "\n",
    "df_miramar = df_miramar[mask]\n",
    "\n",
    "# Sumar todos los grados día sin tener en cuenta los negativos con np.where\n",
    "\n",
    "df_miramar['Grados dia'] = np.where(df_miramar['Grados dia'] > 0, df_miramar['Grados dia'], 0)\n",
    "\n",
    "resultado = df_miramar['Grados dia'].sum()\n",
    "\n",
    "resultado"
   ]
  },
  {
   "cell_type": "code",
   "execution_count": 123,
   "metadata": {},
   "outputs": [
    {
     "data": {
      "text/plain": [
       "958.05"
      ]
     },
     "execution_count": 123,
     "metadata": {},
     "output_type": "execute_result"
    }
   ],
   "source": [
    "# 11/10/2023 al 20/01/2024\n",
    "df_miramar = pd.read_excel('Estacion Miramar.xlsx')\n",
    "\n",
    "mask = (df_miramar['Fecha'] >= '2023-10-11') & (df_miramar['Fecha'] <= '2024-01-20')\n",
    "\n",
    "df_miramar = df_miramar[mask]\n",
    "\n",
    "# Sumar todos los grados día sin tener en cuenta los negativos con np.where\n",
    "\n",
    "df_miramar['Grados dia'] = np.where(df_miramar['Grados dia'] > 0, df_miramar['Grados dia'], 0)\n",
    "\n",
    "resultado = df_miramar['Grados dia'].sum()\n",
    "\n",
    "resultado"
   ]
  },
  {
   "cell_type": "code",
   "execution_count": 124,
   "metadata": {},
   "outputs": [
    {
     "data": {
      "text/plain": [
       "970.9499999999999"
      ]
     },
     "execution_count": 124,
     "metadata": {},
     "output_type": "execute_result"
    }
   ],
   "source": [
    "# Balcarce\n",
    "# 24/10/2023 al 20/01/2024\n",
    "\n",
    "df_balcarce = pd.read_excel('Estacion Balcarce.xlsx')\n",
    "\n",
    "mask = (df_balcarce['Fecha'] >= '2023-10-24') & (df_balcarce['Fecha'] <= '2024-01-20')\n",
    "\n",
    "df_balcarce = df_balcarce[mask]\n",
    "\n",
    "# Sumar todos los grados día sin tener en cuenta los negativos con np.where\n",
    "\n",
    "df_balcarce['Grados dia'] = np.where(df_balcarce['Grados dia'] > 0, df_balcarce['Grados dia'], 0)\n",
    "\n",
    "resultado = df_balcarce['Grados dia'].sum()\n",
    "\n",
    "resultado"
   ]
  },
  {
   "cell_type": "code",
   "execution_count": 125,
   "metadata": {},
   "outputs": [
    {
     "data": {
      "text/plain": [
       "1016.7"
      ]
     },
     "execution_count": 125,
     "metadata": {},
     "output_type": "execute_result"
    }
   ],
   "source": [
    "# 18/10/2023 al 20/01/2024\n",
    "\n",
    "df_balcarce = pd.read_excel('Estacion Balcarce.xlsx')\n",
    "\n",
    "mask = (df_balcarce['Fecha'] >= '2023-10-18') & (df_balcarce['Fecha'] <= '2024-01-20')\n",
    "\n",
    "df_balcarce = df_balcarce[mask]\n",
    "\n",
    "# Sumar todos los grados día sin tener en cuenta los negativos con np.where\n",
    "\n",
    "df_balcarce['Grados dia'] = np.where(df_balcarce['Grados dia'] > 0, df_balcarce['Grados dia'], 0)\n",
    "\n",
    "resultado = df_balcarce['Grados dia'].sum()\n",
    "\n",
    "resultado"
   ]
  },
  {
   "cell_type": "code",
   "execution_count": 126,
   "metadata": {},
   "outputs": [
    {
     "data": {
      "text/plain": [
       "1063.3500000000001"
      ]
     },
     "execution_count": 126,
     "metadata": {},
     "output_type": "execute_result"
    }
   ],
   "source": [
    "# 17/10/2023 al 23/01/2024\n",
    "\n",
    "df_balcarce = pd.read_excel('Estacion Balcarce.xlsx')\n",
    "\n",
    "mask = (df_balcarce['Fecha'] >= '2023-10-17') & (df_balcarce['Fecha'] <= '2024-01-23')\n",
    "\n",
    "df_balcarce = df_balcarce[mask]\n",
    "\n",
    "# Sumar todos los grados día sin tener en cuenta los negativos con np.where\n",
    "\n",
    "df_balcarce['Grados dia'] = np.where(df_balcarce['Grados dia'] > 0, df_balcarce['Grados dia'], 0)\n",
    "\n",
    "resultado = df_balcarce['Grados dia'].sum()\n",
    "\n",
    "resultado"
   ]
  },
  {
   "cell_type": "code",
   "execution_count": 127,
   "metadata": {},
   "outputs": [
    {
     "data": {
      "text/plain": [
       "1068.45"
      ]
     },
     "execution_count": 127,
     "metadata": {},
     "output_type": "execute_result"
    }
   ],
   "source": [
    "# 17/11/2023 al 06/02/2024\n",
    "\n",
    "df_balcarce = pd.read_excel('Estacion Balcarce.xlsx')\n",
    "\n",
    "mask = (df_balcarce['Fecha'] >= '2023-11-17') & (df_balcarce['Fecha'] <= '2024-02-06')\n",
    "\n",
    "df_balcarce = df_balcarce[mask]\n",
    "\n",
    "# Sumar todos los grados día sin tener en cuenta los negativos con np.where\n",
    "\n",
    "df_balcarce['Grados dia'] = np.where(df_balcarce['Grados dia'] > 0, df_balcarce['Grados dia'], 0)\n",
    "\n",
    "resultado = df_balcarce['Grados dia'].sum()\n",
    "\n",
    "resultado"
   ]
  },
  {
   "cell_type": "code",
   "execution_count": 128,
   "metadata": {},
   "outputs": [
    {
     "data": {
      "text/plain": [
       "1075.6000000000001"
      ]
     },
     "execution_count": 128,
     "metadata": {},
     "output_type": "execute_result"
    }
   ],
   "source": [
    "# 16/11/2023 al 06/02/2024\n",
    "\n",
    "df_balcarce = pd.read_excel('Estacion Balcarce.xlsx')\n",
    "\n",
    "mask = (df_balcarce['Fecha'] >= '2023-11-16') & (df_balcarce['Fecha'] <= '2024-02-06')\n",
    "\n",
    "df_balcarce = df_balcarce[mask]\n",
    "\n",
    "# Sumar todos los grados día sin tener en cuenta los negativos con np.where\n",
    "\n",
    "df_balcarce['Grados dia'] = np.where(df_balcarce['Grados dia'] > 0, df_balcarce['Grados dia'], 0)\n",
    "\n",
    "resultado = df_balcarce['Grados dia'].sum()\n",
    "\n",
    "resultado"
   ]
  },
  {
   "cell_type": "code",
   "execution_count": 129,
   "metadata": {},
   "outputs": [
    {
     "data": {
      "text/plain": [
       "1049.1"
      ]
     },
     "execution_count": 129,
     "metadata": {},
     "output_type": "execute_result"
    }
   ],
   "source": [
    "# 15/10/2023 al 21/01/2024\n",
    "\n",
    "df_balcarce = pd.read_excel('Estacion Balcarce.xlsx')\n",
    "\n",
    "mask = (df_balcarce['Fecha'] >= '2023-10-15') & (df_balcarce['Fecha'] <= '2024-01-21')\n",
    "\n",
    "df_balcarce = df_balcarce[mask]\n",
    "\n",
    "# Sumar todos los grados día sin tener en cuenta los negativos con np.where\n",
    "\n",
    "df_balcarce['Grados dia'] = np.where(df_balcarce['Grados dia'] > 0, df_balcarce['Grados dia'], 0)\n",
    "\n",
    "resultado = df_balcarce['Grados dia'].sum()\n",
    "\n",
    "resultado"
   ]
  },
  {
   "cell_type": "code",
   "execution_count": 130,
   "metadata": {},
   "outputs": [
    {
     "data": {
      "text/plain": [
       "1079.4"
      ]
     },
     "execution_count": 130,
     "metadata": {},
     "output_type": "execute_result"
    }
   ],
   "source": [
    "# 21/11/2023 al 09/02/2024\n",
    "\n",
    "df_balcarce = pd.read_excel('Estacion Balcarce.xlsx')\n",
    "\n",
    "mask = (df_balcarce['Fecha'] >= '2023-11-21') & (df_balcarce['Fecha'] <= '2024-02-09')\n",
    "\n",
    "df_balcarce = df_balcarce[mask]\n",
    "\n",
    "# Sumar todos los grados día sin tener en cuenta los negativos con np.where\n",
    "\n",
    "df_balcarce['Grados dia'] = np.where(df_balcarce['Grados dia'] > 0, df_balcarce['Grados dia'], 0)\n",
    "\n",
    "resultado = df_balcarce['Grados dia'].sum()\n",
    "\n",
    "resultado"
   ]
  },
  {
   "cell_type": "code",
   "execution_count": 131,
   "metadata": {},
   "outputs": [
    {
     "data": {
      "text/plain": [
       "1062.05"
      ]
     },
     "execution_count": 131,
     "metadata": {},
     "output_type": "execute_result"
    }
   ],
   "source": [
    "# 27/11/2023 al 12/02/2024\n",
    "\n",
    "df_balcarce = pd.read_excel('Estacion Balcarce.xlsx')\n",
    "\n",
    "mask = (df_balcarce['Fecha'] >= '2023-11-27') & (df_balcarce['Fecha'] <= '2024-02-12')\n",
    "\n",
    "df_balcarce = df_balcarce[mask]\n",
    "\n",
    "# Sumar todos los grados día sin tener en cuenta los negativos con np.where\n",
    "\n",
    "df_balcarce['Grados dia'] = np.where(df_balcarce['Grados dia'] > 0, df_balcarce['Grados dia'], 0)\n",
    "\n",
    "resultado = df_balcarce['Grados dia'].sum()\n",
    "\n",
    "resultado"
   ]
  },
  {
   "cell_type": "code",
   "execution_count": 132,
   "metadata": {},
   "outputs": [],
   "source": [
    "df_balcarce = pd.read_excel('Estacion Balcarce.xlsx')\n",
    "df_ladulce = pd.read_excel('Estacion la dulce.xlsx')\n",
    "df_miramar = pd.read_excel('Estacion Miramar.xlsx')\n",
    "\n",
    "# Convertir los negativos a 0 con np.where\n",
    "\n",
    "df_balcarce['Grados dia'] = np.where(df_balcarce['Grados dia'] > 0, df_balcarce['Grados dia'], 0)\n",
    "df_ladulce['Grados dia'] = np.where(df_ladulce['Grados dia'] > 0, df_ladulce['Grados dia'], 0)\n",
    "df_miramar['Grados dia'] = np.where(df_miramar['Grados dia'] > 0, df_miramar['Grados dia'], 0)\n",
    "\n",
    "df_balcarce.to_excel('Estacion Balcarce.xlsx', index=False)\n",
    "df_ladulce.to_excel('Estacion la dulce.xlsx', index=False)\n",
    "df_miramar.to_excel('Estacion Miramar.xlsx', index=False)"
   ]
  }
 ],
 "metadata": {
  "kernelspec": {
   "display_name": "Python 3",
   "language": "python",
   "name": "python3"
  },
  "language_info": {
   "codemirror_mode": {
    "name": "ipython",
    "version": 3
   },
   "file_extension": ".py",
   "mimetype": "text/x-python",
   "name": "python",
   "nbconvert_exporter": "python",
   "pygments_lexer": "ipython3",
   "version": "3.11.8"
  }
 },
 "nbformat": 4,
 "nbformat_minor": 2
}
