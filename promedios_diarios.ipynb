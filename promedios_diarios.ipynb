{
 "cells": [
  {
   "cell_type": "code",
   "execution_count": 31,
   "metadata": {},
   "outputs": [],
   "source": [
    "import pandas as pd\n",
    "import numpy as np\n",
    "\n",
    "df_balcarce = pd.read_excel('dataset/Estacion Balcarce (1).xlsx')\n",
    "df_ladulce = pd.read_excel('dataset/Estacion la dulce (1).xlsx')\n",
    "df_miramar = pd.read_excel('dataset/Estacion Miramar (1).xlsx')"
   ]
  },
  {
   "cell_type": "code",
   "execution_count": 9,
   "metadata": {},
   "outputs": [
    {
     "data": {
      "text/html": [
       "<div>\n",
       "<style scoped>\n",
       "    .dataframe tbody tr th:only-of-type {\n",
       "        vertical-align: middle;\n",
       "    }\n",
       "\n",
       "    .dataframe tbody tr th {\n",
       "        vertical-align: top;\n",
       "    }\n",
       "\n",
       "    .dataframe thead th {\n",
       "        text-align: right;\n",
       "    }\n",
       "</style>\n",
       "<table border=\"1\" class=\"dataframe\">\n",
       "  <thead>\n",
       "    <tr style=\"text-align: right;\">\n",
       "      <th></th>\n",
       "      <th>Fecha</th>\n",
       "      <th>Temperatura_Abrigo_150cm</th>\n",
       "      <th>Temperatura_Abrigo_150cm_Maxima</th>\n",
       "      <th>Temperatura_Abrigo_150cm_Minima</th>\n",
       "      <th>Temperatura_Suelo_10cm_Media</th>\n",
       "      <th>Grados dia</th>\n",
       "    </tr>\n",
       "  </thead>\n",
       "  <tbody>\n",
       "    <tr>\n",
       "      <th>0</th>\n",
       "      <td>2014-01-01</td>\n",
       "      <td>22.00347</td>\n",
       "      <td>31.8</td>\n",
       "      <td>15.1</td>\n",
       "      <td>22.79723</td>\n",
       "      <td>15.45</td>\n",
       "    </tr>\n",
       "  </tbody>\n",
       "</table>\n",
       "</div>"
      ],
      "text/plain": [
       "       Fecha  Temperatura_Abrigo_150cm  Temperatura_Abrigo_150cm_Maxima  \\\n",
       "0 2014-01-01                  22.00347                             31.8   \n",
       "\n",
       "   Temperatura_Abrigo_150cm_Minima  Temperatura_Suelo_10cm_Media  Grados dia  \n",
       "0                             15.1                      22.79723       15.45  "
      ]
     },
     "execution_count": 9,
     "metadata": {},
     "output_type": "execute_result"
    }
   ],
   "source": [
    "df_balcarce.head(1)"
   ]
  },
  {
   "cell_type": "code",
   "execution_count": 32,
   "metadata": {},
   "outputs": [],
   "source": [
    "# Acumulado de grados dia por día del año durante todo el período\n",
    "\n",
    "# Extraer día y mes\n",
    "df_balcarce['dia'] = df_balcarce['Fecha'].dt.day\n",
    "df_balcarce['mes'] = df_balcarce['Fecha'].dt.month\n",
    "df_ladulce['dia'] = df_ladulce['Fecha'].dt.day\n",
    "df_ladulce['mes'] = df_ladulce['Fecha'].dt.month\n",
    "df_miramar['dia'] = df_miramar['Fecha'].dt.day\n",
    "df_miramar['mes'] = df_miramar['Fecha'].dt.month\n",
    "\n",
    "# Acumulado de grados día por día\n",
    "df_acumu_balcarce = df_balcarce.groupby(['mes', 'dia'])['Grados dia'].sum().reset_index()\n",
    "df_acumu_ladulce = df_ladulce.groupby(['mes', 'dia'])['Grados dia'].sum().reset_index()\n",
    "df_acumu_miramar = df_miramar.groupby(['mes', 'dia'])['Grados dia'].sum().reset_index()\n"
   ]
  },
  {
   "cell_type": "code",
   "execution_count": 17,
   "metadata": {},
   "outputs": [
    {
     "data": {
      "text/html": [
       "<div>\n",
       "<style scoped>\n",
       "    .dataframe tbody tr th:only-of-type {\n",
       "        vertical-align: middle;\n",
       "    }\n",
       "\n",
       "    .dataframe tbody tr th {\n",
       "        vertical-align: top;\n",
       "    }\n",
       "\n",
       "    .dataframe thead th {\n",
       "        text-align: right;\n",
       "    }\n",
       "</style>\n",
       "<table border=\"1\" class=\"dataframe\">\n",
       "  <thead>\n",
       "    <tr style=\"text-align: right;\">\n",
       "      <th></th>\n",
       "      <th>mes</th>\n",
       "      <th>dia</th>\n",
       "      <th>Grados dia</th>\n",
       "    </tr>\n",
       "  </thead>\n",
       "  <tbody>\n",
       "    <tr>\n",
       "      <th>361</th>\n",
       "      <td>12</td>\n",
       "      <td>27</td>\n",
       "      <td>155.90</td>\n",
       "    </tr>\n",
       "    <tr>\n",
       "      <th>362</th>\n",
       "      <td>12</td>\n",
       "      <td>28</td>\n",
       "      <td>169.10</td>\n",
       "    </tr>\n",
       "    <tr>\n",
       "      <th>363</th>\n",
       "      <td>12</td>\n",
       "      <td>29</td>\n",
       "      <td>170.55</td>\n",
       "    </tr>\n",
       "    <tr>\n",
       "      <th>364</th>\n",
       "      <td>12</td>\n",
       "      <td>30</td>\n",
       "      <td>153.80</td>\n",
       "    </tr>\n",
       "    <tr>\n",
       "      <th>365</th>\n",
       "      <td>12</td>\n",
       "      <td>31</td>\n",
       "      <td>133.70</td>\n",
       "    </tr>\n",
       "  </tbody>\n",
       "</table>\n",
       "</div>"
      ],
      "text/plain": [
       "     mes  dia  Grados dia\n",
       "361   12   27      155.90\n",
       "362   12   28      169.10\n",
       "363   12   29      170.55\n",
       "364   12   30      153.80\n",
       "365   12   31      133.70"
      ]
     },
     "execution_count": 17,
     "metadata": {},
     "output_type": "execute_result"
    }
   ],
   "source": [
    "df_acumu_balcarce.tail()"
   ]
  },
  {
   "cell_type": "code",
   "execution_count": 33,
   "metadata": {},
   "outputs": [],
   "source": [
    "# Separar en dos dataframe: del 1 de enero al 30 de abril y del 1 de octubre al 31 de diciembre\n",
    "\n",
    "df_acumu_balcarce_ene_abr = df_acumu_balcarce[(df_acumu_balcarce['mes'] >= 1) & (df_acumu_balcarce['mes'] <= 4)]\n",
    "df_acumu_balcarce_oct_dic = df_acumu_balcarce[(df_acumu_balcarce['mes'] >= 10) & (df_acumu_balcarce['mes'] <= 12)]\n",
    "\n",
    "df_acumu_ladulce_ene_abr = df_acumu_ladulce[(df_acumu_ladulce['mes'] >= 1) & (df_acumu_ladulce['mes'] <= 4)]\n",
    "df_acumu_ladulce_oct_dic = df_acumu_ladulce[(df_acumu_ladulce['mes'] >= 10) & (df_acumu_ladulce['mes'] <= 12)]\n",
    "\n",
    "df_acumu_miramar_ene_abr = df_acumu_miramar[(df_acumu_miramar['mes'] >= 1) & (df_acumu_miramar['mes'] <= 4)]\n",
    "df_acumu_miramar_oct_dic = df_acumu_miramar[(df_acumu_miramar['mes'] >= 10) & (df_acumu_miramar['mes'] <= 12)]"
   ]
  },
  {
   "cell_type": "code",
   "execution_count": null,
   "metadata": {},
   "outputs": [],
   "source": [
    "df_acumu_balcarce_ene_abr['Grados dia'] = df_acumu_balcarce_ene_abr['Grados dia'] / 11\n",
    "df_acumu_balcarce_oct_dic['Grados dia'] = df_acumu_balcarce_oct_dic['Grados dia'] / 10\n",
    "\n",
    "df_acumu_ladulce_ene_abr['Grados dia'] = df_acumu_ladulce_ene_abr['Grados dia'] / 11\n",
    "df_acumu_ladulce_oct_dic['Grados dia'] = df_acumu_ladulce_oct_dic['Grados dia'] / 10\n",
    "\n",
    "df_acumu_miramar_ene_abr['Grados dia'] = df_acumu_miramar_ene_abr['Grados dia'] / 11\n",
    "df_acumu_miramar_oct_dic['Grados dia'] = df_acumu_miramar_oct_dic['Grados dia'] / 10"
   ]
  },
  {
   "cell_type": "code",
   "execution_count": 22,
   "metadata": {},
   "outputs": [
    {
     "data": {
      "text/html": [
       "<div>\n",
       "<style scoped>\n",
       "    .dataframe tbody tr th:only-of-type {\n",
       "        vertical-align: middle;\n",
       "    }\n",
       "\n",
       "    .dataframe tbody tr th {\n",
       "        vertical-align: top;\n",
       "    }\n",
       "\n",
       "    .dataframe thead th {\n",
       "        text-align: right;\n",
       "    }\n",
       "</style>\n",
       "<table border=\"1\" class=\"dataframe\">\n",
       "  <thead>\n",
       "    <tr style=\"text-align: right;\">\n",
       "      <th></th>\n",
       "      <th>mes</th>\n",
       "      <th>dia</th>\n",
       "      <th>Grados dia</th>\n",
       "    </tr>\n",
       "  </thead>\n",
       "  <tbody>\n",
       "    <tr>\n",
       "      <th>0</th>\n",
       "      <td>1</td>\n",
       "      <td>1</td>\n",
       "      <td>13.209091</td>\n",
       "    </tr>\n",
       "    <tr>\n",
       "      <th>1</th>\n",
       "      <td>1</td>\n",
       "      <td>2</td>\n",
       "      <td>14.340909</td>\n",
       "    </tr>\n",
       "    <tr>\n",
       "      <th>2</th>\n",
       "      <td>1</td>\n",
       "      <td>3</td>\n",
       "      <td>13.900000</td>\n",
       "    </tr>\n",
       "    <tr>\n",
       "      <th>3</th>\n",
       "      <td>1</td>\n",
       "      <td>4</td>\n",
       "      <td>14.209091</td>\n",
       "    </tr>\n",
       "    <tr>\n",
       "      <th>4</th>\n",
       "      <td>1</td>\n",
       "      <td>5</td>\n",
       "      <td>13.631818</td>\n",
       "    </tr>\n",
       "  </tbody>\n",
       "</table>\n",
       "</div>"
      ],
      "text/plain": [
       "   mes  dia  Grados dia\n",
       "0    1    1   13.209091\n",
       "1    1    2   14.340909\n",
       "2    1    3   13.900000\n",
       "3    1    4   14.209091\n",
       "4    1    5   13.631818"
      ]
     },
     "execution_count": 22,
     "metadata": {},
     "output_type": "execute_result"
    }
   ],
   "source": [
    "df_acumu_ladulce_ene_abr.head()"
   ]
  },
  {
   "cell_type": "code",
   "execution_count": 23,
   "metadata": {},
   "outputs": [
    {
     "data": {
      "text/html": [
       "<div>\n",
       "<style scoped>\n",
       "    .dataframe tbody tr th:only-of-type {\n",
       "        vertical-align: middle;\n",
       "    }\n",
       "\n",
       "    .dataframe tbody tr th {\n",
       "        vertical-align: top;\n",
       "    }\n",
       "\n",
       "    .dataframe thead th {\n",
       "        text-align: right;\n",
       "    }\n",
       "</style>\n",
       "<table border=\"1\" class=\"dataframe\">\n",
       "  <thead>\n",
       "    <tr style=\"text-align: right;\">\n",
       "      <th></th>\n",
       "      <th>mes</th>\n",
       "      <th>dia</th>\n",
       "      <th>Grados dia</th>\n",
       "    </tr>\n",
       "  </thead>\n",
       "  <tbody>\n",
       "    <tr>\n",
       "      <th>274</th>\n",
       "      <td>10</td>\n",
       "      <td>1</td>\n",
       "      <td>4.065</td>\n",
       "    </tr>\n",
       "    <tr>\n",
       "      <th>275</th>\n",
       "      <td>10</td>\n",
       "      <td>2</td>\n",
       "      <td>2.685</td>\n",
       "    </tr>\n",
       "    <tr>\n",
       "      <th>276</th>\n",
       "      <td>10</td>\n",
       "      <td>3</td>\n",
       "      <td>2.710</td>\n",
       "    </tr>\n",
       "    <tr>\n",
       "      <th>277</th>\n",
       "      <td>10</td>\n",
       "      <td>4</td>\n",
       "      <td>4.210</td>\n",
       "    </tr>\n",
       "    <tr>\n",
       "      <th>278</th>\n",
       "      <td>10</td>\n",
       "      <td>5</td>\n",
       "      <td>5.160</td>\n",
       "    </tr>\n",
       "  </tbody>\n",
       "</table>\n",
       "</div>"
      ],
      "text/plain": [
       "     mes  dia  Grados dia\n",
       "274   10    1       4.065\n",
       "275   10    2       2.685\n",
       "276   10    3       2.710\n",
       "277   10    4       4.210\n",
       "278   10    5       5.160"
      ]
     },
     "execution_count": 23,
     "metadata": {},
     "output_type": "execute_result"
    }
   ],
   "source": [
    "df_acumu_balcarce_oct_dic.head()"
   ]
  },
  {
   "cell_type": "code",
   "execution_count": 35,
   "metadata": {},
   "outputs": [
    {
     "data": {
      "text/html": [
       "<div>\n",
       "<style scoped>\n",
       "    .dataframe tbody tr th:only-of-type {\n",
       "        vertical-align: middle;\n",
       "    }\n",
       "\n",
       "    .dataframe tbody tr th {\n",
       "        vertical-align: top;\n",
       "    }\n",
       "\n",
       "    .dataframe thead th {\n",
       "        text-align: right;\n",
       "    }\n",
       "</style>\n",
       "<table border=\"1\" class=\"dataframe\">\n",
       "  <thead>\n",
       "    <tr style=\"text-align: right;\">\n",
       "      <th></th>\n",
       "      <th>mes</th>\n",
       "      <th>dia</th>\n",
       "      <th>Grados dia</th>\n",
       "    </tr>\n",
       "  </thead>\n",
       "  <tbody>\n",
       "    <tr>\n",
       "      <th>0</th>\n",
       "      <td>1</td>\n",
       "      <td>1</td>\n",
       "      <td>13.190909</td>\n",
       "    </tr>\n",
       "    <tr>\n",
       "      <th>1</th>\n",
       "      <td>1</td>\n",
       "      <td>2</td>\n",
       "      <td>14.218182</td>\n",
       "    </tr>\n",
       "    <tr>\n",
       "      <th>2</th>\n",
       "      <td>1</td>\n",
       "      <td>3</td>\n",
       "      <td>13.518182</td>\n",
       "    </tr>\n",
       "    <tr>\n",
       "      <th>3</th>\n",
       "      <td>1</td>\n",
       "      <td>4</td>\n",
       "      <td>13.872727</td>\n",
       "    </tr>\n",
       "    <tr>\n",
       "      <th>4</th>\n",
       "      <td>1</td>\n",
       "      <td>5</td>\n",
       "      <td>13.159091</td>\n",
       "    </tr>\n",
       "  </tbody>\n",
       "</table>\n",
       "</div>"
      ],
      "text/plain": [
       "   mes  dia  Grados dia\n",
       "0    1    1   13.190909\n",
       "1    1    2   14.218182\n",
       "2    1    3   13.518182\n",
       "3    1    4   13.872727\n",
       "4    1    5   13.159091"
      ]
     },
     "execution_count": 35,
     "metadata": {},
     "output_type": "execute_result"
    }
   ],
   "source": [
    "# Concat los dataframe\n",
    "\n",
    "df_acumulado_balcarce = pd.concat([df_acumu_balcarce_ene_abr, df_acumu_balcarce_oct_dic])\n",
    "\n",
    "df_acumulado_balcarce.head()"
   ]
  },
  {
   "cell_type": "code",
   "execution_count": 28,
   "metadata": {},
   "outputs": [],
   "source": [
    "df_acumulado_balcarce.to_excel('Promedio diario Balcarce.xlsx', index=False)"
   ]
  },
  {
   "cell_type": "code",
   "execution_count": 36,
   "metadata": {},
   "outputs": [],
   "source": [
    "# Concatenar los dataframe\n",
    "\n",
    "df_acumulado_ladulce = pd.concat([df_acumu_ladulce_ene_abr, df_acumu_ladulce_oct_dic])\n",
    "df_acumulado_miramar = pd.concat([df_acumu_miramar_ene_abr, df_acumu_miramar_oct_dic])\n",
    "\n",
    "df_acumulado_ladulce.to_excel('Promedio diario Ladulce.xlsx', index=False)\n",
    "df_acumulado_miramar.to_excel('Promedio diario Miramar.xlsx', index=False)"
   ]
  }
 ],
 "metadata": {
  "kernelspec": {
   "display_name": "Python 3",
   "language": "python",
   "name": "python3"
  },
  "language_info": {
   "codemirror_mode": {
    "name": "ipython",
    "version": 3
   },
   "file_extension": ".py",
   "mimetype": "text/x-python",
   "name": "python",
   "nbconvert_exporter": "python",
   "pygments_lexer": "ipython3",
   "version": "3.11.8"
  }
 },
 "nbformat": 4,
 "nbformat_minor": 2
}
